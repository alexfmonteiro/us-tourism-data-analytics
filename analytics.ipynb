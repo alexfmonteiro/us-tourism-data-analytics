{
 "cells": [
  {
   "cell_type": "markdown",
   "metadata": {
    "collapsed": true
   },
   "source": [
    "# US Immigration and Tourism Data Analytics\n",
    "\n",
    "The main goal of this notebook is to validate the data model created by exploring the data to provide insights about the tourists and immigrants behaviours in US.\n",
    "\n",
    "\n",
    "A few basic studies were created using PySpark and SQL queries.\n",
    "1. [Most visited US cities](#q1)\n",
    "2. [Top 10 Summer destinations](#q2)\n",
    "3. [Top 10 Winter destinations](#q3)\n",
    "4. [Most visited cities with breakdown per season](#q4)\n",
    "5. [Most visited cities with breaking down per travel purposes](#q5)\n",
    "6. [Where most visitors come from and how they arrive in US](#q6)\n",
    "7. [Top Airlines that land in US by passengers count](#q7)\n",
    "8. [Correlation between temperature and visitors](#q8)\n",
    "\n",
    "\n",
    "Imports and Spark session building:"
   ]
  },
  {
   "cell_type": "code",
   "execution_count": null,
   "metadata": {},
   "outputs": [],
   "source": [
    "from pyspark.sql import SparkSession\n",
    "from pyspark.sql import SQLContext\n",
    "spark = SparkSession.builder \\\n",
    "    .config(\"spark.jars.packages\", \"org.apache.hadoop:hadoop-aws:2.7.0\") \\\n",
    "    .getOrCreate()\n",
    "sc = spark.sparkContext\n",
    "sqlContext = SQLContext(sc)"
   ]
  },
  {
   "cell_type": "markdown",
   "metadata": {},
   "source": [
    "Load all tables into dataframes:"
   ]
  },
  {
   "cell_type": "code",
   "execution_count": null,
   "metadata": {},
   "outputs": [],
   "source": [
    "arrivals_df     = sqlContext.read.parquet('./data/trusted/arrivals/')\n",
    "visa_df         = sqlContext.read.parquet('./data/trusted/visa/')\n",
    "i94mode_df      = sqlContext.read.parquet('./data/trusted/i94mode/')\n",
    "calendar_df     = sqlContext.read.parquet('./data/trusted/calendar/')\n",
    "ports_df        = sqlContext.read.parquet('./data/trusted/ports/')\n",
    "airlines_df     = sqlContext.read.parquet('./data/trusted/airlines/')\n",
    "countries_df    = sqlContext.read.parquet('./data/trusted/countries/')\n",
    "temperatures_df = sqlContext.read.parquet('./data/trusted/temperatures/')"
   ]
  },
  {
   "cell_type": "markdown",
   "metadata": {},
   "source": [
    "Create views so we can create queries using SQL:"
   ]
  },
  {
   "cell_type": "code",
   "execution_count": null,
   "metadata": {},
   "outputs": [],
   "source": [
    "arrivals_df.createOrReplaceTempView('arrivals')\n",
    "visa_df.createOrReplaceTempView('visa')\n",
    "i94mode_df.createOrReplaceTempView('i94mode')\n",
    "calendar_df.createOrReplaceTempView('calendar')\n",
    "ports_df.createOrReplaceTempView('ports')\n",
    "airlines_df.createOrReplaceTempView('airlines')\n",
    "countries_df.createOrReplaceTempView('countries')\n",
    "temperatures_df.createOrReplaceTempView('temperatures')"
   ]
  },
  {
   "cell_type": "markdown",
   "metadata": {},
   "source": [
    "---"
   ]
  },
  {
   "cell_type": "markdown",
   "metadata": {},
   "source": [
    "<a id='q1'></a>\n",
    "### Top 10 most visited US cities\n"
   ]
  },
  {
   "cell_type": "code",
   "execution_count": null,
   "metadata": {},
   "outputs": [],
   "source": [
    "spark.sql('''\n",
    "\n",
    "  SELECT p.city,\n",
    "         p.state,\n",
    "         count(a.id) visitors\n",
    "    FROM arrivals a, \n",
    "         ports p       \n",
    "   WHERE a.port = p.code\n",
    "   GROUP BY p.city, p.state\n",
    "   ORDER BY visitors desc\n",
    "    \n",
    "    ''').limit(10).toPandas()"
   ]
  },
  {
   "cell_type": "markdown",
   "metadata": {},
   "source": [
    "---"
   ]
  },
  {
   "cell_type": "markdown",
   "metadata": {},
   "source": [
    "<a id='q2'></a>\n",
    "### Top 10 Summer destinations\n",
    "*considering only the ones travelling with leisure purpose\n"
   ]
  },
  {
   "cell_type": "code",
   "execution_count": null,
   "metadata": {},
   "outputs": [],
   "source": [
    "spark.sql('''\n",
    "\n",
    "  SELECT p.city,\n",
    "         p.state,\n",
    "         count(a.id) visitors\n",
    "    FROM arrivals a, \n",
    "         ports p,\n",
    "         calendar c\n",
    "   WHERE a.port = p.code\n",
    "     AND c.date = a.arrival_date\n",
    "     AND c.season_name = 'summer'\n",
    "     AND a.visa = 2\n",
    "   GROUP BY p.city, p.state\n",
    "   ORDER BY visitors desc\n",
    "    \n",
    "    ''').limit(10).toPandas()"
   ]
  },
  {
   "cell_type": "markdown",
   "metadata": {},
   "source": [
    "---"
   ]
  },
  {
   "cell_type": "markdown",
   "metadata": {},
   "source": [
    "<a id='q3'></a>\n",
    "### Top 10 Winter destinations  \n",
    "*considering only the ones travelling with leisure purpose\n"
   ]
  },
  {
   "cell_type": "code",
   "execution_count": null,
   "metadata": {},
   "outputs": [],
   "source": [
    "spark.sql('''\n",
    "\n",
    "  SELECT p.city,\n",
    "         p.state,\n",
    "         count(a.id) visitors\n",
    "    FROM arrivals a, \n",
    "         ports p,\n",
    "         calendar c\n",
    "   WHERE a.port = p.code\n",
    "     AND c.date = a.arrival_date\n",
    "     AND c.season_name = 'winter'\n",
    "     AND a.visa = 2\n",
    "   GROUP BY p.city, p.state\n",
    "   ORDER BY visitors desc\n",
    "    \n",
    "    ''').limit(10).toPandas()"
   ]
  },
  {
   "cell_type": "markdown",
   "metadata": {},
   "source": [
    "---"
   ]
  },
  {
   "cell_type": "markdown",
   "metadata": {},
   "source": [
    "<a id='q4'></a>\n",
    "### Most visited cities with breakdown per season:\n"
   ]
  },
  {
   "cell_type": "code",
   "execution_count": null,
   "metadata": {},
   "outputs": [],
   "source": [
    "from pyspark.sql.functions import col, asc,desc\n",
    "spark.sql('''\n",
    "\n",
    "  SELECT p.city || ' - ' || p.state city,\n",
    "         c.season_name season,\n",
    "         count(a.id) visitors\n",
    "    FROM arrivals a, \n",
    "         ports p,\n",
    "         calendar c\n",
    "   WHERE a.port = p.code\n",
    "     AND c.date = a.arrival_date\n",
    "   GROUP BY p.city, p.state, c.season_name\n",
    "  HAVING visitors > 1000\n",
    "\n",
    "UNION\n",
    "\n",
    "  SELECT p.city || ' - ' || p.state city,\n",
    "         'total' season,\n",
    "         count(a.id) visitors\n",
    "    FROM arrivals a, \n",
    "         ports p\n",
    "   WHERE a.port = p.code\n",
    "   GROUP BY p.city, p.state\n",
    "  HAVING visitors > 1000\n",
    "\n",
    "\n",
    "    ''').groupBy('city') \\\n",
    "        .pivot('season') \\\n",
    "        .sum('visitors') \\\n",
    "        .orderBy(col('total').desc(), col('city').asc()) \\\n",
    "        .select('city', 'spring', 'summer', 'fall', 'winter', 'total') \\\n",
    "        .limit(10).toPandas()\n"
   ]
  },
  {
   "cell_type": "markdown",
   "metadata": {},
   "source": [
    "---"
   ]
  },
  {
   "cell_type": "markdown",
   "metadata": {},
   "source": [
    "<a id='q5'></a>\n",
    "### Most visited cities with breaking down per travel purposes\n"
   ]
  },
  {
   "cell_type": "code",
   "execution_count": null,
   "metadata": {},
   "outputs": [],
   "source": [
    "from pyspark.sql.functions import col, asc,desc\n",
    "spark.sql('''\n",
    "\n",
    "  SELECT p.city || ' - ' || p.state city,\n",
    "         v.purpose purpose,\n",
    "         count(a.id) visitors\n",
    "    FROM arrivals a, \n",
    "         ports p,\n",
    "         visa v\n",
    "   WHERE a.port = p.code\n",
    "     AND a.visatype = v.type\n",
    "   GROUP BY p.city, p.state, v.purpose\n",
    "  HAVING visitors > 1000\n",
    "\n",
    "UNION\n",
    "\n",
    "  SELECT p.city || ' - ' || p.state city,\n",
    "         'total' purpose,\n",
    "         count(a.id) visitors\n",
    "    FROM arrivals a, \n",
    "         ports p\n",
    "   WHERE a.port = p.code\n",
    "   GROUP BY p.city, p.state\n",
    "  HAVING visitors > 1000\n",
    "\n",
    "\n",
    "    ''').groupBy('city') \\\n",
    "        .pivot('purpose') \\\n",
    "        .sum('visitors') \\\n",
    "        .orderBy(col('total').desc(), col('city').asc()) \\\n",
    "        .limit(10).toPandas()"
   ]
  },
  {
   "cell_type": "markdown",
   "metadata": {},
   "source": [
    "---"
   ]
  },
  {
   "cell_type": "markdown",
   "metadata": {},
   "source": [
    "<a id='q6'></a>\n",
    "### Where most visitors come from and how they arrive in US"
   ]
  },
  {
   "cell_type": "code",
   "execution_count": null,
   "metadata": {},
   "outputs": [],
   "source": [
    "spark.sql('''\n",
    "\n",
    "  SELECT c.country,\n",
    "         i.description mode,\n",
    "         count(a.id) visitors\n",
    "    FROM arrivals a, \n",
    "         countries c,\n",
    "         i94mode i\n",
    "   WHERE a.country = c.code\n",
    "     AND a.mode = i.code\n",
    "   GROUP BY c.country, i.description\n",
    "\n",
    "UNION\n",
    "\n",
    "  SELECT c.country,\n",
    "         'total' mode,\n",
    "         count(a.id) visitors\n",
    "    FROM arrivals a, \n",
    "         countries c\n",
    "   WHERE a.country = c.code\n",
    "   GROUP BY c.country\n",
    "    \n",
    "    ''').groupBy('country') \\\n",
    "        .pivot('mode') \\\n",
    "        .sum('visitors') \\\n",
    "        .orderBy(col('total').desc(), col('country').asc()) \\\n",
    "        .select('country', 'Air', 'Land', 'Sea', 'Not Reported', 'total') \\\n",
    "        .limit(20).toPandas()"
   ]
  },
  {
   "cell_type": "markdown",
   "metadata": {},
   "source": [
    "---"
   ]
  },
  {
   "cell_type": "markdown",
   "metadata": {},
   "source": [
    "<a id='q7'></a>\n",
    "### Top Airlines that land in US by passengers count"
   ]
  },
  {
   "cell_type": "code",
   "execution_count": 103,
   "metadata": {},
   "outputs": [
    {
     "data": {
      "text/html": [
       "<div>\n",
       "<style scoped>\n",
       "    .dataframe tbody tr th:only-of-type {\n",
       "        vertical-align: middle;\n",
       "    }\n",
       "\n",
       "    .dataframe tbody tr th {\n",
       "        vertical-align: top;\n",
       "    }\n",
       "\n",
       "    .dataframe thead th {\n",
       "        text-align: right;\n",
       "    }\n",
       "</style>\n",
       "<table border=\"1\" class=\"dataframe\">\n",
       "  <thead>\n",
       "    <tr style=\"text-align: right;\">\n",
       "      <th></th>\n",
       "      <th>airline</th>\n",
       "      <th>airline_country</th>\n",
       "      <th>passengers</th>\n",
       "    </tr>\n",
       "  </thead>\n",
       "  <tbody>\n",
       "    <tr>\n",
       "      <th>0</th>\n",
       "      <td>American Airlines</td>\n",
       "      <td>United States</td>\n",
       "      <td>3765951</td>\n",
       "    </tr>\n",
       "    <tr>\n",
       "      <th>1</th>\n",
       "      <td>United Airlines</td>\n",
       "      <td>United States</td>\n",
       "      <td>3398487</td>\n",
       "    </tr>\n",
       "    <tr>\n",
       "      <th>2</th>\n",
       "      <td>Delta Air Lines</td>\n",
       "      <td>United States</td>\n",
       "      <td>2962904</td>\n",
       "    </tr>\n",
       "    <tr>\n",
       "      <th>3</th>\n",
       "      <td>British Airways</td>\n",
       "      <td>United Kingdom</td>\n",
       "      <td>2015160</td>\n",
       "    </tr>\n",
       "    <tr>\n",
       "      <th>4</th>\n",
       "      <td>Lufthansa Cargo</td>\n",
       "      <td>Germany</td>\n",
       "      <td>1291777</td>\n",
       "    </tr>\n",
       "    <tr>\n",
       "      <th>5</th>\n",
       "      <td>Lufthansa</td>\n",
       "      <td>Germany</td>\n",
       "      <td>1291777</td>\n",
       "    </tr>\n",
       "    <tr>\n",
       "      <th>6</th>\n",
       "      <td>Virgin Atlantic Airways</td>\n",
       "      <td>United Kingdom</td>\n",
       "      <td>1180003</td>\n",
       "    </tr>\n",
       "    <tr>\n",
       "      <th>7</th>\n",
       "      <td>Korean Air</td>\n",
       "      <td>Republic of Korea</td>\n",
       "      <td>891971</td>\n",
       "    </tr>\n",
       "    <tr>\n",
       "      <th>8</th>\n",
       "      <td>Japan Airlines</td>\n",
       "      <td>Japan</td>\n",
       "      <td>831542</td>\n",
       "    </tr>\n",
       "    <tr>\n",
       "      <th>9</th>\n",
       "      <td>Japan Airlines Domestic</td>\n",
       "      <td>Japan</td>\n",
       "      <td>831542</td>\n",
       "    </tr>\n",
       "  </tbody>\n",
       "</table>\n",
       "</div>"
      ],
      "text/plain": [
       "                   airline    airline_country  passengers\n",
       "0        American Airlines      United States     3765951\n",
       "1          United Airlines      United States     3398487\n",
       "2          Delta Air Lines      United States     2962904\n",
       "3          British Airways     United Kingdom     2015160\n",
       "4          Lufthansa Cargo            Germany     1291777\n",
       "5                Lufthansa            Germany     1291777\n",
       "6  Virgin Atlantic Airways     United Kingdom     1180003\n",
       "7               Korean Air  Republic of Korea      891971\n",
       "8           Japan Airlines              Japan      831542\n",
       "9  Japan Airlines Domestic              Japan      831542"
      ]
     },
     "execution_count": 103,
     "metadata": {},
     "output_type": "execute_result"
    }
   ],
   "source": [
    "spark.sql('''\n",
    "\n",
    "  SELECT c.name airline,\n",
    "         c.country airline_country,\n",
    "         count(a.id) passengers\n",
    "    FROM arrivals a, \n",
    "         airlines c\n",
    "   WHERE a.airline = c.code\n",
    "   GROUP BY c.name, c.country\n",
    "   ORDER BY passengers DESC\n",
    "   \n",
    "    ''').limit(10).toPandas()"
   ]
  },
  {
   "cell_type": "markdown",
   "metadata": {},
   "source": [
    "---"
   ]
  },
  {
   "cell_type": "markdown",
   "metadata": {},
   "source": [
    "<a id='q8'></a>\n",
    "### Trying to find a correlation between temperature and visitors  \n",
    "* considering only a subset of cities\n"
   ]
  },
  {
   "cell_type": "code",
   "execution_count": 125,
   "metadata": {},
   "outputs": [],
   "source": [
    "df = spark.sql('''\n",
    "\n",
    "  SELECT p.city,\n",
    "         t.month,\n",
    "         c.month_name,\n",
    "         round(t.avg_temp, 2) temperature,\n",
    "         count(a.id) visitors\n",
    "    FROM arrivals a,\n",
    "         ports p,\n",
    "         temperatures t,\n",
    "         calendar c\n",
    "   WHERE a.port = p.code\n",
    "     AND UPPER(p.city) = UPPER(t.city)\n",
    "     AND MONTH(a.arrival_date) = t.month\n",
    "     AND a.arrival_date = c.date\n",
    "     AND UPPER(p.city) IN ('NEW YORK', 'LOS ANGELES', 'MIAMI')\n",
    "   GROUP BY p.city, t.month, t.avg_temp, c.month_name\n",
    "   ORDER BY p.city, t.month\n",
    "   \n",
    "    ''').toPandas()"
   ]
  },
  {
   "cell_type": "code",
   "execution_count": 127,
   "metadata": {},
   "outputs": [
    {
     "data": {
      "text/plain": [
       "<AxesSubplot:xlabel='month'>"
      ]
     },
     "execution_count": 127,
     "metadata": {},
     "output_type": "execute_result"
    },
    {
     "data": {
      "image/png": "[encoded data removed]",
      "text/plain": [
       "<Figure size 432x288 with 1 Axes>"
      ]
     },
     "metadata": {
      "needs_background": "light"
     },
     "output_type": "display_data"
    }
   ],
   "source": [
    "import matplotlib.pyplot as plt\n",
    "df.pivot(index='month', columns='city', values='temperature').plot()"
   ]
  },
  {
   "cell_type": "code",
   "execution_count": 128,
   "metadata": {},
   "outputs": [
    {
     "data": {
      "text/plain": [
       "<AxesSubplot:xlabel='month'>"
      ]
     },
     "execution_count": 128,
     "metadata": {},
     "output_type": "execute_result"
    },
    {
     "data": {
      "image/png": "[encoded data removed]",
      "text/plain": [
       "<Figure size 432x288 with 1 Axes>"
      ]
     },
     "metadata": {
      "needs_background": "light"
     },
     "output_type": "display_data"
    }
   ],
   "source": [
    "df.pivot(index='month', columns='city', values='visitors').plot()"
   ]
  },
  {
   "cell_type": "code",
   "execution_count": null,
   "metadata": {},
   "outputs": [],
   "source": []
  }
 ],
 "metadata": {
  "kernelspec": {
   "display_name": "Python 3",
   "language": "python",
   "name": "python3"
  },
  "language_info": {
   "codemirror_mode": {
    "name": "ipython",
    "version": 3
   },
   "file_extension": ".py",
   "mimetype": "text/x-python",
   "name": "python",
   "nbconvert_exporter": "python",
   "pygments_lexer": "ipython3",
   "version": "3.6.3"
  }
 },
 "nbformat": 4,
 "nbformat_minor": 1
}

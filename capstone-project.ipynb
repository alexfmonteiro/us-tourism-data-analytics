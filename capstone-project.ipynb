{
 "cells": [
  {
   "cell_type": "markdown",
   "metadata": {},
   "source": [
    "# US Domestic Tourism Data Analytics\n",
    "### Udacity Data Engineering Capstone Project\n",
    "\n",
    "#### Project Summary\n",
    "This project aims to gather data from 3 different datasources related to US immigration and tourism data, and transform them into a star schema with tables designed to optimize queries on the data. The main goal is to provide trends and insights about the volume of trips and the time of the year.\n",
    "      \n",
    "The project follows the following steps:\n",
    "* Step 1: Scope the Project and Gather Data\n",
    "* Step 2: Explore and Assess the Data\n",
    "* Step 3: Define the Data Model\n",
    "* Step 4: Run ETL to Model the Data\n",
    "* Step 5: Complete Project Write Up"
   ]
  },
  {
   "cell_type": "code",
   "execution_count": null,
   "metadata": {},
   "outputs": [],
   "source": [
    "# Do all imports and installs here\n",
    "import pandas as pd\n",
    "import datetime as dt\n",
    "from pyspark.sql import SparkSession\n",
    "spark = SparkSession.builder \\\n",
    "    .config(\"spark.jars.packages\", \"org.apache.hadoop:hadoop-aws:2.7.0\") \\\n",
    "    .getOrCreate()"
   ]
  },
  {
   "cell_type": "markdown",
   "metadata": {},
   "source": [
    "### Step 1: Scope the Project and Gather Data\n",
    "\n",
    "#### Scope \n",
    "Explain what you plan to do in the project in more detail:\n",
    " - Ingest 3 different datasets related to US Immigration Data, Airlines and Global Temperature\n",
    " - Explore and asses the data using this Notebook\n",
    " - Run data quality checks and exclude data that won't be used\n",
    " - Model a star schema to store the final data model \n",
    " - Create an ETL to read the raw data, transform it and load it into a trusted zone area in a datlake.\n",
    " - The analytical tables in the trusted zone will be stored as parquet files\n",
    " - Everything will be ready to be loaded into a DW, if necessary\n",
    " - Provide a few analytical queries to validate the final tables\n",
    " - **The main purpose of the final data model is to esily provide insights about tourists and immigrants behaviours, if it's possible to correlate travels with the time of the year or with certain regions.**\n",
    "\n",
    "What data do you use? \n",
    " - I94 Immigration data of 2016\n",
    " - World Temperature Data\n",
    " - World Airports Data\n",
    "\n",
    "What is your end solution look like? \n",
    " - 8 tables stored in a star schema designed to optimize queries on immigration data in US\n",
    " - Some analytical queries to validate a few behaviours\n",
    "\n",
    "What tools did you use?\n",
    " - Python 3.6\n",
    " - PySpark 2.4.3 using Scala version 2.11.12\n",
    " - Java HotSpot(TM) 64-Bit Server VM, 1.8.0_291\n",
    " - packages in requirements.txt\n",
    " \n",
    "\n",
    "### Describe and Gather Data \n",
    "Describe the data sets you're using. Where did it come from? What type of information is included? "
   ]
  },
  {
   "cell_type": "markdown",
   "metadata": {},
   "source": [
    "#### I94 Immigration Data\n",
    "This data comes from the US National Tourism and Trade Office. Basically, this dataset contains international visitor arrival statistics of the year 2016. \n",
    "\n",
    "The original dataset was in sas7bdat format, but for this project, it was transformed into parquet files since it's a smaller size and also for performance purposes when reading it into Spark dataframes.\n",
    "\n",
    "You can read more about it [here](https://www.trade.gov/national-travel-and-tourism-office)."
   ]
  },
  {
   "cell_type": "code",
   "execution_count": null,
   "metadata": {},
   "outputs": [],
   "source": [
    "immig_df = spark.read.parquet(\"./data/raw/i94-parquet\")\n",
    "#immig_df.limit(5).toPandas()"
   ]
  },
  {
   "cell_type": "markdown",
   "metadata": {},
   "source": [
    "#### World Temperature Data\n",
    "This dataset came from Kaggle. \n",
    "\n",
    "The original dataset was in CSV format, but for this project, it was transformed into parquet files since it's a smaller size and also for performance purposes when reading it into Spark dataframes.\n",
    "\n",
    "You can read more about it [here](https://www.kaggle.com/berkeleyearth/climate-change-earth-surface-temperature-data)."
   ]
  },
  {
   "cell_type": "code",
   "execution_count": null,
   "metadata": {},
   "outputs": [],
   "source": [
    "temp_df = spark.read.parquet(\"./data/raw/global_temperature\")\n",
    "#temp_df.limit(5).toPandas()"
   ]
  },
  {
   "cell_type": "markdown",
   "metadata": {},
   "source": [
    "-----------------------------"
   ]
  },
  {
   "cell_type": "markdown",
   "metadata": {},
   "source": [
    "\n",
    "\n",
    "\n",
    "\n",
    "~~#### U.S. City Demographic Data\n",
    "This dataset contains information about the demographics of all US cities and census-designated places with a population greater or equal to 65,000. This data comes from the US Census Bureau's 2015 American Community Survey.~~\n",
    "\n",
    "~~You can read more about it [here](https://public.opendatasoft.com/explore/dataset/us-cities-demographics/export/).~~"
   ]
  },
  {
   "cell_type": "code",
   "execution_count": null,
   "metadata": {},
   "outputs": [],
   "source": [
    "# cities_df = spark.read.options(header='True', inferSchema='True', delimiter=';')\\\n",
    "#     .csv(\"./data/raw/us-cities-demographics.csv\")\n",
    "# cities_df.limit(5).toPandas()"
   ]
  },
  {
   "cell_type": "markdown",
   "metadata": {},
   "source": [
    "~~#### Airport Code Table\n",
    "This is a simple table of airport codes and corresponding cities. You can read more about it [here](https://datahub.io/core/airport-codes#data)~~"
   ]
  },
  {
   "cell_type": "code",
   "execution_count": 2,
   "metadata": {},
   "outputs": [],
   "source": [
    "# airport_df = spark.read.options(header='True', inferSchema='True', delimiter=',')\\\n",
    "#     .csv(\"./data/raw/airport-codes.csv\")\n",
    "#airport_df.limit(5).toPandas()"
   ]
  },
  {
   "cell_type": "markdown",
   "metadata": {},
   "source": [
    "--------"
   ]
  },
  {
   "cell_type": "markdown",
   "metadata": {},
   "source": [
    "#### Port of Entry Codes\n",
    "This dataset contains the three-letter codes that are used by Customs and Border Protection (CBP) in its internal communications to represent ports-of-entry (POEs). It is used in the i94 immigration data in the i94port field. This data came maily from [here](https://fam.state.gov/fam/09FAM/09FAM010205.html), but also some data was merged from the file I94_SAS_Labels_Descriptions.SAS, provided by Udacity."
   ]
  },
  {
   "cell_type": "code",
   "execution_count": null,
   "metadata": {},
   "outputs": [],
   "source": [
    "ports_df = spark.read.options(header='True', inferSchema='True', delimiter=';')\\\n",
    "    .csv(\"./data/raw/port-of-entry-codes.csv\")\n",
    "#ports_df.limit(5).toPandas()"
   ]
  },
  {
   "cell_type": "markdown",
   "metadata": {},
   "source": [
    "#### Country Codes Table\n",
    "This is a simple dictionary with the codes used in I94 Forms and the corresponding country. This information was obtained from the file I94_SAS_Labels_Descriptions.SAS, provided by Udacity."
   ]
  },
  {
   "cell_type": "code",
   "execution_count": null,
   "metadata": {},
   "outputs": [],
   "source": [
    "countries_df = spark.read.options(header='True', inferSchema='True', delimiter=';')\\\n",
    "    .csv(\"./data/raw/country_codes.txt\")\n",
    "#countries_df.limit(5).toPandas()"
   ]
  },
  {
   "cell_type": "markdown",
   "metadata": {},
   "source": [
    "#### Airline Database\n",
    "This dataset came from Kaggle. It contains 5888 airline companies.\n",
    "\n",
    "You can read more about it [here](https://www.kaggle.com/open-flights/airline-database)."
   ]
  },
  {
   "cell_type": "code",
   "execution_count": null,
   "metadata": {},
   "outputs": [],
   "source": [
    "airlines_df = spark.read.options(header='True', inferSchema='True', delimiter=',')\\\n",
    "    .csv(\"./data/raw/airlines.csv\")\n",
    "#airlines_df.limit(5).toPandas()"
   ]
  },
  {
   "cell_type": "markdown",
   "metadata": {},
   "source": [
    "### Step 2: Explore and Assess the Data\n",
    "#### Explore the Data \n",
    "Identify data quality issues, like missing values, duplicate data, etc."
   ]
  },
  {
   "cell_type": "code",
   "execution_count": null,
   "metadata": {},
   "outputs": [],
   "source": [
    "# assessing the data using SQL:\n",
    "## attempting to join immigration data with other datasets\n",
    "immig_df.createOrReplaceTempView(\"immig_data\")\n",
    "countries_df.createOrReplaceTempView(\"country_codes\")\n",
    "airlines_df.createOrReplaceTempView(\"airlines\")\n",
    "ports_df.createOrReplaceTempView(\"ports\")\n",
    "\n",
    "epoch = dt.datetime(1960, 1, 1).date()\n",
    "spark.udf.register(\"isoformat\", lambda x: (epoch + dt.timedelta(x)).isoformat() if x else None)\n",
    "spark.sql('''\n",
    "          SELECT int(i.cicid) id,\n",
    "                 i.i94port port,\n",
    "                 split(p.location, ',')[0] port_city,\n",
    "                 split(p.location, ',')[1] port_state,\n",
    "                 isoformat(int(i.arrdate)) arrival_date,\n",
    "                 isoformat(int(i.depdate)) departure_date,\n",
    "                 int(i.depdate - i.arrdate) days,\n",
    "                 CASE\n",
    "                     WHEN INT(i.i94mode) = 1 THEN 'Air'\n",
    "                     WHEN INT(i.i94mode) = 2 THEN 'Sea'\n",
    "                     WHEN INT(i.i94mode) = 3 THEN 'Land'\n",
    "                     ELSE 'Not reported'\n",
    "                 END AS mode,\n",
    "                 CASE\n",
    "                     WHEN INT(i.i94visa) = 1 THEN 'Business'\n",
    "                     WHEN INT(i.i94visa) = 2 THEN 'Pleasure'\n",
    "                     ELSE 'Student'\n",
    "                 END AS visa,\n",
    "                 i.visatype,\n",
    "                 int(i.i94bir) age,\n",
    "                 i.gender,\n",
    "                 i.airline,\n",
    "                 a.name airline_name,\n",
    "                 i.fltno flight_no,\n",
    "                 c.country,\n",
    "                 i.occup\n",
    "            FROM immig_data i, \n",
    "                 country_codes c,\n",
    "                 airlines a,\n",
    "                 ports p\n",
    "           WHERE i.gender IS NOT NULL\n",
    "             AND int(i.i94res) = c.code\n",
    "             AND c.country NOT LIKE '%INVALID%'\n",
    "             AND c.country NOT LIKE '%No Country Code%'\n",
    "             and a.IATA = i.airline\n",
    "             and p.code = i.i94port\n",
    "           LIMIT 50\n",
    "    ''').toPandas()"
   ]
  },
  {
   "cell_type": "code",
   "execution_count": null,
   "metadata": {},
   "outputs": [],
   "source": [
    "## assesssing visa data\n",
    "spark.sql('''\n",
    "    SELECT i94visa, count(cicid)\n",
    "      FROM immig_data\n",
    "     GROUP by i94visa\n",
    "     ORDER BY count(cicid) desc\n",
    "     LIMIT 50\n",
    "    ''').toPandas()\n",
    "\n",
    "spark.sql('''\n",
    "    SELECT visatype, count(cicid)\n",
    "      FROM immig_data\n",
    "     GROUP by visatype\n",
    "     ORDER BY visatype desc\n",
    "     LIMIT 20\n",
    "    ''').toPandas()"
   ]
  },
  {
   "cell_type": "code",
   "execution_count": null,
   "metadata": {},
   "outputs": [],
   "source": [
    "# assessing port-of-entry data\n",
    "\n",
    "# check how many differents ports we have in the i94 data\n",
    "immig_df.createOrReplaceTempView(\"immig_data\")\n",
    "ports_count = spark.sql('''\n",
    "    SELECT DISTINCT(I94PORT)\n",
    "      FROM immig_data\n",
    "    ''').count()\n",
    "print(f'ports in i94 data: {ports_count}') #397\n",
    "\n",
    "# check if all possible ports are in the ports dataframe\n",
    "ports_df.createOrReplaceTempView(\"ports\")\n",
    "\n",
    "ports_count = spark.sql('''\n",
    "    SELECT code\n",
    "      FROM ports\n",
    "     WHERE code IN (SELECT DISTINCT(I94PORT)\n",
    "                      FROM immig_data)\n",
    "    ''').count()\n",
    "print(f'matches with ports in CBP data: {ports_count}') #396\n",
    "\n",
    "#missing port\n",
    "spark.sql('''\n",
    "    SELECT *\n",
    "      FROM immig_data\n",
    "     WHERE I94PORT NOT IN (SELECT code\n",
    "                           FROM ports)\n",
    "    ''').toPandas()"
   ]
  },
  {
   "cell_type": "code",
   "execution_count": null,
   "metadata": {},
   "outputs": [],
   "source": []
  },
  {
   "cell_type": "code",
   "execution_count": null,
   "metadata": {},
   "outputs": [],
   "source": [
    "# assessing temperature dataset\n",
    "# selecting cities in US only\n",
    "# grouping by month to get the average temperature\n",
    "temp_df.createOrReplaceTempView(\"temp\")\n",
    "spark.sql('''\n",
    "    SELECT city, country, month(dt) month, avg(averagetemperature) avg_temp\n",
    "      FROM temp\n",
    "     WHERE lower(country) in ('united states')\n",
    "       AND averagetemperature is not null\n",
    "     GROUP BY city, country, month(dt)\n",
    "     ORDER BY city, country, month(dt)\n",
    "    ''').toPandas()\n"
   ]
  },
  {
   "cell_type": "code",
   "execution_count": null,
   "metadata": {},
   "outputs": [],
   "source": [
    "# top 100 airports with the highest immigration records\n",
    "immig_df.createOrReplaceTempView(\"immig_data\")\n",
    "top_ports = spark.sql('''\n",
    "\n",
    "    SELECT I94PORT, count(cicid) cnt\n",
    "      FROM immig_data\n",
    "     GROUP BY I94PORT\n",
    "     ORDER BY COUNT(cicid) desc\n",
    "    ''')\n",
    "top_ports.createOrReplaceTempView(\"top_ports\")\n",
    "\n",
    "#cleaning ports outside us or invalid codes\n",
    "clean_ports = spark.sql('''\n",
    "    SELECT code, \n",
    "           split(location, ',')[0] city, \n",
    "           trim(split(location, ',')[1]) state\n",
    "      FROM ports\n",
    "    ''')\n",
    "clean_ports.createOrReplaceTempView(\"clean_ports\")\n",
    "\n",
    "clean_ports = spark.sql('''\n",
    "    SELECT *\n",
    "      FROM clean_ports cp, top_ports tp\n",
    "     WHERE cp.code = tp.i94port\n",
    "       AND cp.state != ''\n",
    "       and length(cp.state) <= 3\n",
    "     ORDER by cnt desc\n",
    "     LIMIT 100\n",
    "    ''')\n"
   ]
  },
  {
   "cell_type": "code",
   "execution_count": null,
   "metadata": {},
   "outputs": [],
   "source": [
    "clean_ports.createOrReplaceTempView(\"clean_ports\")\n",
    "# port cities with a match in the temperature dataset\n",
    "spark.sql('''\n",
    "    SELECT *\n",
    "      FROM clean_ports p\n",
    "     WHERE p.city in (SELECT DISTINCT(UPPER(city)) \n",
    "                        FROM temp \n",
    "                       WHERE lower(country) in ('united states'))\n",
    " order by p.cnt desc\n",
    "\n",
    "    ''').toPandas()\n",
    "\n",
    "# port cities without a match in the temperature dataset\n",
    "spark.sql('''\n",
    "    SELECT *\n",
    "      FROM clean_ports p\n",
    "     WHERE p.city not in (SELECT DISTINCT(UPPER(city)) \n",
    "                            FROM temp \n",
    "                           WHERE lower(country) in ('united states'))\n",
    " order by p.cnt desc\n",
    "\n",
    "    ''').toPandas()"
   ]
  },
  {
   "cell_type": "markdown",
   "metadata": {},
   "source": [
    "#### Cleaning Steps\n",
    "Steps necessary to clean the data for each dataset:\n",
    " - drop the columns that won't be useful for the project\n",
    " - remove duplicates\n",
    " - discard invalid rows \n",
    " - discard subsets of data outside the scope of the project\n",
    " - any additional transformation/cleaning step"
   ]
  },
  {
   "cell_type": "code",
   "execution_count": null,
   "metadata": {},
   "outputs": [],
   "source": [
    "#immigration data\n",
    "\n",
    "#joining with countries_df and removing invalid rows\n",
    "immig_df.createOrReplaceTempView(\"immig_data\")\n",
    "countries_df.createOrReplaceTempView(\"country_codes\")\n",
    "\n",
    "rows_before = immig_df.count()\n",
    "print(f'rows count: {rows_before}')\n",
    "\n",
    "immig_df = spark.sql('''\n",
    "    SELECT i.*, c.country\n",
    "      FROM immig_data i,\n",
    "           country_codes c\n",
    "     WHERE int(i.i94res) = c.code\n",
    "       AND c.country NOT LIKE '%INVALID%'\n",
    "       AND c.country NOT LIKE '%No Country Code%'\n",
    "    ''')\n",
    "\n",
    "rows_after = immig_df.count()\n",
    "print(f'{rows_after - rows_before} invalid rows removed')\n",
    "\n",
    "#dropping columns that won't be used in this project\n",
    "cols = ['i94yr', 'i94mon', 'i94cit', 'i94addr', \n",
    "        'count', 'dtadfile', 'visapost', 'entdepa', \n",
    "        'entdepd', 'entdepu', 'biryear', 'dtaddto', \n",
    "        'i94res', 'matflag']\n",
    "immig_df = immig_df.drop(*cols)\n",
    "\n",
    "#removing duplicates\n",
    "if immig_df.distinct().count() != immig_df.count():\n",
    "    immig_df.dropDuplicates()\n",
    "    print('removing duplicates')\n",
    "    print(f'rows count after de-duplicate: {immig_df.count()}')\n",
    "else:\n",
    "    print('no duplicates found')\n",
    "\n",
    "#casting data types, relabeling column names and replacing values\n",
    "immig_df.createOrReplaceTempView(\"immig_data\")\n",
    "epoch = dt.datetime(1960, 1, 1).date()\n",
    "spark.udf.register(\"isoformat\", lambda x: (epoch + dt.timedelta(x)).isoformat() if x else None)\n",
    "immig_df = spark.sql('''\n",
    "    SELECT int(i.cicid) id,\n",
    "           i.i94port airport,\n",
    "           isoformat(int(i.arrdate)) arrival_date,\n",
    "           isoformat(int(i.depdate)) departure_date,   \n",
    "           CASE\n",
    "               WHEN INT(i.i94mode) = 1 THEN 'Air'\n",
    "               WHEN INT(i.i94mode) = 2 THEN 'Sea'\n",
    "               WHEN INT(i.i94mode) = 3 THEN 'Land'\n",
    "               ELSE 'Not reported'\n",
    "           END AS mode,\n",
    "           CASE\n",
    "               WHEN INT(i.i94visa) = 1 THEN 'Business'\n",
    "               WHEN INT(i.i94visa) = 2 THEN 'Pleasure'\n",
    "               ELSE 'Student'\n",
    "           END AS visa,\n",
    "           i.visatype,\n",
    "           int(i.i94bir) age,\n",
    "           i.gender,\n",
    "           i.airline,\n",
    "           i.fltno flight_num,\n",
    "           i.occup occupation,\n",
    "           i.admnum admission_num,\n",
    "           i.insnum,\n",
    "           i.country origin_country\n",
    "      FROM immig_data i\n",
    "    ''')\n",
    "\n",
    "print(f'rows count: {immig_df.count()}')"
   ]
  },
  {
   "cell_type": "code",
   "execution_count": null,
   "metadata": {},
   "outputs": [],
   "source": [
    "# ports data\n",
    "# split the location field into city and state\n",
    "# select only the ports that has a match in i94 data\n",
    "\n",
    "ports_df.createOrReplaceTempView(\"ports\")\n",
    "ports_df = spark.sql('''\n",
    "    SELECT code, \n",
    "           split(location, ',')[0] city,\n",
    "           split(location, ',')[1] state\n",
    "      FROM ports a\n",
    "     WHERE code IN (SELECT DISTINCT(I94PORT)\n",
    "                      FROM immig_data)\n",
    "    ''')"
   ]
  },
  {
   "cell_type": "code",
   "execution_count": null,
   "metadata": {},
   "outputs": [],
   "source": [
    "# temperature data\n",
    "# selecting cities in US only\n",
    "# grouping by month to get the average temperature\n",
    "temp_df.createOrReplaceTempView(\"temp\")\n",
    "temp_df = spark.sql('''\n",
    "    SELECT city, country, month(dt) month, avg(averagetemperature) avg_temp\n",
    "      FROM temp\n",
    "     WHERE lower(country) in ('united states')\n",
    "       AND averagetemperature is not null\n",
    "     GROUP BY city, country, month(dt)\n",
    "     ORDER BY city, country, month(dt)\n",
    "    ''').toPandas()"
   ]
  },
  {
   "cell_type": "markdown",
   "metadata": {},
   "source": [
    "### Step 3: Define the Data Model\n",
    "#### 3.1 Conceptual Data Model\n",
    "*Map out the conceptual data model and explain why you chose that model*\n",
    "\n",
    "The data model consists in a star schema with 1 fact table and 7 dimension tables:\n",
    "\n",
    " - Fact: arrivals\n",
    "\n",
    " - Dims: visa, 194mode, calendar, ports, airlines, countries, temperatures\n",
    "\n",
    "\n",
    "\n",
    "#### 3.2 Mapping Out Data Pipelines\n",
    "List the steps necessary to pipeline the data into the chosen data model"
   ]
  },
  {
   "cell_type": "markdown",
   "metadata": {},
   "source": [
    "### Step 4: Run Pipelines to Model the Data \n",
    "#### 4.1 Create the data model\n",
    "Build the data pipelines to create the data model."
   ]
  },
  {
   "cell_type": "code",
   "execution_count": null,
   "metadata": {},
   "outputs": [],
   "source": [
    "# Write code here"
   ]
  },
  {
   "cell_type": "markdown",
   "metadata": {},
   "source": [
    "#### 4.2 Data Quality Checks\n",
    "Explain the data quality checks you'll perform to ensure the pipeline ran as expected. These could include:\n",
    " * Integrity constraints on the relational database (e.g., unique key, data type, etc.)\n",
    " * Unit tests for the scripts to ensure they are doing the right thing\n",
    " * Source/Count checks to ensure completeness\n",
    " \n",
    "Run Quality Checks"
   ]
  },
  {
   "cell_type": "code",
   "execution_count": null,
   "metadata": {},
   "outputs": [],
   "source": [
    "# Perform quality checks here"
   ]
  },
  {
   "cell_type": "markdown",
   "metadata": {},
   "source": [
    "#### 4.3 Data dictionary \n",
    "Create a data dictionary for your data model. For each field, provide a brief description of what the data is and where it came from. You can include the data dictionary in the notebook or in a separate file."
   ]
  },
  {
   "cell_type": "markdown",
   "metadata": {},
   "source": [
    "#### Step 5: Complete Project Write Up\n",
    "* Clearly state the rationale for the choice of tools and technologies for the project.\n",
    "* Propose how often the data should be updated and why.\n",
    "* Write a description of how you would approach the problem differently under the following scenarios:\n",
    " * The data was increased by 100x.\n",
    " * The data populates a dashboard that must be updated on a daily basis by 7am every day.\n",
    " * The database needed to be accessed by 100+ people."
   ]
  },
  {
   "cell_type": "code",
   "execution_count": null,
   "metadata": {},
   "outputs": [],
   "source": []
  },
  {
   "cell_type": "code",
   "execution_count": null,
   "metadata": {},
   "outputs": [],
   "source": []
  },
  {
   "cell_type": "code",
   "execution_count": null,
   "metadata": {},
   "outputs": [],
   "source": []
  },
  {
   "cell_type": "code",
   "execution_count": null,
   "metadata": {},
   "outputs": [],
   "source": []
  },
  {
   "cell_type": "code",
   "execution_count": null,
   "metadata": {},
   "outputs": [],
   "source": []
  },
  {
   "cell_type": "code",
   "execution_count": null,
   "metadata": {},
   "outputs": [],
   "source": []
  }
 ],
 "metadata": {
  "kernelspec": {
   "display_name": "Python 3",
   "language": "python",
   "name": "python3"
  },
  "language_info": {
   "codemirror_mode": {
    "name": "ipython",
    "version": 3
   },
   "file_extension": ".py",
   "mimetype": "text/x-python",
   "name": "python",
   "nbconvert_exporter": "python",
   "pygments_lexer": "ipython3",
   "version": "3.6.3"
  }
 },
 "nbformat": 4,
 "nbformat_minor": 2
}
